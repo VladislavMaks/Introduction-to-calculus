{
 "cells": [
  {
   "cell_type": "markdown",
   "metadata": {},
   "source": [
    "## Задание 1"
   ]
  },
  {
   "cell_type": "markdown",
   "metadata": {},
   "source": [
    "Множество и последовательность - не одно и то же. Множество - это совокупность эллементов, не связанных друг с другом правилом, в то время, как последовательность является частью множества, но имеет определенное правило для совокупности элементов. Иными словами: множество - родитель, последовательность - частный субъект"
   ]
  },
  {
   "cell_type": "markdown",
   "metadata": {},
   "source": [
    "## Задание 2"
   ]
  },
  {
   "cell_type": "markdown",
   "metadata": {},
   "source": [
    "1) $2n - 1$\n",
    "- Возрастает\n",
    "- Ограничена снизу (по условию [n=1; ∞)) m = 1\n",
    "\n",
    "- n5 = 9\n",
    "\n",
    "2) $1/(n-1)$\n",
    "- Возрастает\n",
    "- Ограничена сверху и снизу\n",
    "- n5 = -0,25\n",
    "\n",
    "3) $-1^n + \\sqrt(2n)$\n",
    "- Возрастает, но не монотонно\n",
    "- Ограничена снизу\n",
    "- n5 = $-1 + \\sqrt(10)$\n",
    "\n",
    "4) -1^(2n) + $1/n^2$\n",
    "- Убывает\n",
    "- Ограничена сверху и снизу\n",
    "- n5 = 0,04"
   ]
  },
  {
   "cell_type": "markdown",
   "metadata": {},
   "source": [
    "## Задание 3"
   ]
  },
  {
   "cell_type": "markdown",
   "metadata": {},
   "source": [
    "a1 = 128, a(n+1) - a(n) = 6\n",
    "\n",
    "a(12) = $6*12+128$\n",
    "\n",
    "a(12) = 200"
   ]
  }
 ],
 "metadata": {
  "kernelspec": {
   "display_name": "Python 3",
   "language": "python",
   "name": "python3"
  },
  "language_info": {
   "codemirror_mode": {
    "name": "ipython",
    "version": 3
   },
   "file_extension": ".py",
   "mimetype": "text/x-python",
   "name": "python",
   "nbconvert_exporter": "python",
   "pygments_lexer": "ipython3",
   "version": "3.8.5"
  }
 },
 "nbformat": 4,
 "nbformat_minor": 4
}
