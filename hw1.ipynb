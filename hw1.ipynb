{
 "cells": [
  {
   "cell_type": "markdown",
   "metadata": {},
   "source": [
    "## Задание 1"
   ]
  },
  {
   "cell_type": "markdown",
   "metadata": {},
   "source": [
    "1) $\\forall$ y $\\in$ [0;1]: sgn(y) = 1 \"Л\"\n",
    "\n",
    "$\\exists$ y $\\in$ [0;1]: sgn(y) $\\neq$ 1 \"И\""
   ]
  },
  {
   "cell_type": "markdown",
   "metadata": {},
   "source": [
    "2) $\\forall$ n $\\in$ N>2: $\\exists$ x, y, z $\\in$ N: $x^n = y^n + z^n$ \"Л\"\n",
    "\n",
    "$\\exists$ n $\\in$ N < 2: $\\forall$ x, y, z $\\in$ N: $x^n \\neq y^n + z^n$ \"Л\""
   ]
  },
  {
   "cell_type": "markdown",
   "metadata": {},
   "source": [
    "3) $\\forall$ x $\\in$ R $\\exists$ X $\\in$ R: X > x \"И\"\n",
    "\n",
    "$\\exists$ x $\\in$ R $\\forall$ X $\\in$ R: X < x \"И\""
   ]
  },
  {
   "cell_type": "markdown",
   "metadata": {},
   "source": [
    "4) $\\forall$ x $\\in$ C $\\nexists$ y $\\in$ C: x > y || x < y \"Л\"\n",
    "\n",
    "$\\exists$ x $\\in$ C $\\exists$ y $\\in$ C: x $\\leq$ y & x $\\geq$ y \"И\""
   ]
  },
  {
   "cell_type": "markdown",
   "metadata": {},
   "source": [
    "5) $\\forall$ y $\\in$ [0;$\\pi/2$] $\\exists$ e > 0: siny < sin(y + e) \"Л\"\n",
    "\n",
    "$\\exists$ y $\\in$ [0;$\\pi/2$] $\\forall$ e $\\leq$ 0: siny $\\geq$ sin(y + e) \"И\""
   ]
  },
  {
   "cell_type": "markdown",
   "metadata": {},
   "source": [
    "6) $\\forall$ y $\\in$ [0;$\\pi$) $\\exists$ e > 0: cosy > cos(y + e) \"Л\"\n",
    "\n",
    "$\\exists$ y $\\in$ [0;$\\pi$) $\\forall$ e $\\leq$ 0: cosy $\\leq$ cos(y + e) \"И\""
   ]
  },
  {
   "cell_type": "markdown",
   "metadata": {},
   "source": [
    "7) $\\exists$ x: $\\notin$ {N, Z, Q, R, C} \"Л\"\n",
    "\n",
    "$\\forall$ x: $\\in$ {N, Z, Q, R, C} \"И\""
   ]
  },
  {
   "cell_type": "markdown",
   "metadata": {},
   "source": [
    "## Задание 2"
   ]
  },
  {
   "cell_type": "code",
   "execution_count": 3,
   "metadata": {},
   "outputs": [],
   "source": [
    "a = {20, 40, 60}\n",
    "b = {30, 40, 50}\n",
    "c = {10, 20, 30, 40, 50, 60, 70, 80}"
   ]
  },
  {
   "cell_type": "markdown",
   "metadata": {},
   "source": [
    "### Объединение"
   ]
  },
  {
   "cell_type": "code",
   "execution_count": 4,
   "metadata": {},
   "outputs": [
    {
     "name": "stdout",
     "output_type": "stream",
     "text": [
      "{50, 20, 40, 60, 30}\n",
      "{70, 40, 10, 80, 50, 20, 60, 30}\n",
      "{50, 20, 40, 60, 30}\n",
      "{70, 40, 10, 80, 50, 20, 60, 30}\n",
      "{70, 40, 10, 80, 50, 20, 60, 30}\n",
      "{70, 40, 10, 80, 50, 20, 60, 30}\n"
     ]
    }
   ],
   "source": [
    "print(a | b)\n",
    "print (a | c)\n",
    "print (b | a)\n",
    "print (b | c)\n",
    "print (c | a)\n",
    "print (c | b)"
   ]
  },
  {
   "cell_type": "markdown",
   "metadata": {},
   "source": [
    "### Пересечение"
   ]
  },
  {
   "cell_type": "code",
   "execution_count": 5,
   "metadata": {},
   "outputs": [
    {
     "name": "stdout",
     "output_type": "stream",
     "text": [
      "{40}\n",
      "{40, 20, 60}\n",
      "{40}\n",
      "{40, 50, 30}\n",
      "{40, 20, 60}\n",
      "{40, 50, 30}\n"
     ]
    }
   ],
   "source": [
    "print(a & b)\n",
    "print (a & c)\n",
    "print (b & a)\n",
    "print (b & c)\n",
    "print (c & a)\n",
    "print (c & b)"
   ]
  },
  {
   "cell_type": "markdown",
   "metadata": {},
   "source": [
    "### Разность"
   ]
  },
  {
   "cell_type": "code",
   "execution_count": 6,
   "metadata": {},
   "outputs": [
    {
     "name": "stdout",
     "output_type": "stream",
     "text": [
      "{20, 60}\n",
      "set()\n",
      "{50, 30}\n",
      "set()\n",
      "{70, 10, 80, 50, 30}\n",
      "{70, 10, 80, 20, 60}\n"
     ]
    }
   ],
   "source": [
    "print(a - b)\n",
    "print (a - c)\n",
    "print (b - a)\n",
    "print (b - c)\n",
    "print (c - a)\n",
    "print (c - b)"
   ]
  },
  {
   "attachments": {},
   "cell_type": "markdown",
   "metadata": {},
   "source": [
    "### Симметрическая разность"
   ]
  },
  {
   "cell_type": "code",
   "execution_count": 7,
   "metadata": {},
   "outputs": [
    {
     "name": "stdout",
     "output_type": "stream",
     "text": [
      "{50, 20, 60, 30}\n",
      "{70, 10, 80, 50, 30}\n",
      "{50, 20, 60, 30}\n",
      "{70, 10, 80, 20, 60}\n",
      "{70, 10, 80, 50, 30}\n",
      "{70, 10, 80, 20, 60}\n"
     ]
    }
   ],
   "source": [
    "print(a ^ b)\n",
    "print (a ^ c)\n",
    "print (b ^ a)\n",
    "print (b ^ c)\n",
    "print (c ^ a)\n",
    "print (c ^ b)"
   ]
  },
  {
   "attachments": {},
   "cell_type": "markdown",
   "metadata": {},
   "source": [
    "### Декартово произведение"
   ]
  },
  {
   "cell_type": "code",
   "execution_count": 9,
   "metadata": {},
   "outputs": [],
   "source": [
    "from itertools import product"
   ]
  },
  {
   "cell_type": "code",
   "execution_count": 12,
   "metadata": {},
   "outputs": [
    {
     "name": "stdout",
     "output_type": "stream",
     "text": [
      "[(40, 40), (40, 50), (40, 30), (20, 40), (20, 50), (20, 30), (60, 40), (60, 50), (60, 30)]\n",
      "[(40, 40), (40, 50), (40, 30), (20, 40), (20, 50), (20, 30), (60, 40), (60, 50), (60, 30)]\n",
      "[(40, 40), (40, 50), (40, 30), (20, 40), (20, 50), (20, 30), (60, 40), (60, 50), (60, 30)]\n",
      "[(40, 40), (40, 50), (40, 30), (20, 40), (20, 50), (20, 30), (60, 40), (60, 50), (60, 30)]\n",
      "[(40, 40), (40, 50), (40, 30), (20, 40), (20, 50), (20, 30), (60, 40), (60, 50), (60, 30)]\n",
      "[(40, 40), (40, 50), (40, 30), (20, 40), (20, 50), (20, 30), (60, 40), (60, 50), (60, 30)]\n"
     ]
    }
   ],
   "source": [
    "print(list(product(a, b)))\n",
    "print (list(product(a, b)))\n",
    "print (list(product(a, b)))\n",
    "print (list(product(a, b)))\n",
    "print (list(product(a, b)))\n",
    "print (list(product(a, b)))"
   ]
  }
 ],
 "metadata": {
  "kernelspec": {
   "display_name": "Python 3",
   "language": "python",
   "name": "python3"
  },
  "language_info": {
   "codemirror_mode": {
    "name": "ipython",
    "version": 3
   },
   "file_extension": ".py",
   "mimetype": "text/x-python",
   "name": "python",
   "nbconvert_exporter": "python",
   "pygments_lexer": "ipython3",
   "version": "3.8.5"
  }
 },
 "nbformat": 4,
 "nbformat_minor": 4
}
